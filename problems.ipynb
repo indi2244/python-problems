{
 "cells": [
  {
   "cell_type": "code",
   "execution_count": 4,
   "metadata": {},
   "outputs": [
    {
     "name": "stdout",
     "output_type": "stream",
     "text": [
      "The factorial of given number is 3628800\n"
     ]
    }
   ],
   "source": [
    "#factorial of a given number\n",
    "def fact(n):\n",
    "    if n == 0 or n == 1:\n",
    "        return 1\n",
    "    else:\n",
    "        return   n * fact(n-1)\n",
    "\n",
    "number = int(input(\"Enter a number:\"))\n",
    "print(\"The factorial of given number is\", fact(number))"
   ]
  },
  {
   "cell_type": "code",
   "execution_count": 3,
   "metadata": {},
   "outputs": [
    {
     "name": "stdout",
     "output_type": "stream",
     "text": [
      "0\n",
      "1\n",
      "1\n",
      "2\n",
      "3\n",
      "5\n",
      "8\n",
      "13\n",
      "21\n",
      "34\n"
     ]
    }
   ],
   "source": [
    "#Generating Fibonaccci Sequence\n",
    "def fibo(n):\n",
    "    a = 0\n",
    "    b = 1\n",
    "\n",
    "    if n == 1:\n",
    "        print(\"a\")\n",
    "    else:\n",
    "        print(a)\n",
    "        print(b)\n",
    "        for i in range(2, n):\n",
    "            c = a + b\n",
    "            a = b\n",
    "            b = c\n",
    "            print(c)\n",
    "\n",
    "inp = int(input(\"Enter a number: \"))\n",
    "fibo(inp)\n",
    "\n",
    "          \n",
    "    "
   ]
  },
  {
   "cell_type": "code",
   "execution_count": 2,
   "metadata": {},
   "outputs": [
    {
     "name": "stdout",
     "output_type": "stream",
     "text": [
      "the sum of numbers from 1 to 101 is 5151\n"
     ]
    }
   ],
   "source": [
    "#sum of all the number from 1 to 101\n",
    "sum = 0\n",
    "for i in range(1,102):\n",
    "    sum = sum + i\n",
    "\n",
    "print(\"the sum of numbers from 1 to 101 is\", sum)\n"
   ]
  },
  {
   "cell_type": "code",
   "execution_count": 20,
   "metadata": {},
   "outputs": [
    {
     "name": "stdout",
     "output_type": "stream",
     "text": [
      "the largest number is  90\n",
      "The largest number is 90\n",
      "The list is [45, 48, 47, 49, 43, 42]\n",
      "The sorted list is: [42, 43, 45, 47, 48, 49]\n",
      "49\n",
      "42\n"
     ]
    }
   ],
   "source": [
    "#find the largest element in the list without taking input from user using max function\n",
    "\n",
    "list = [1,24,56,78,45,35,67,90,12,47]\n",
    "\n",
    "x = max(list)\n",
    "print(\"the largest number is \" , x)\n",
    "\n",
    "\n",
    "\n",
    "#find the largest element in the list without taking input from user using loop\n",
    "def largest_num(n):\n",
    "    if list == 0:\n",
    "        return None\n",
    "    largest = n[0]\n",
    "    for number in n:\n",
    "        if number > largest:\n",
    "            largest = number\n",
    "    return largest\n",
    "n = [1,24,56,78,45,35,67,90,12,47]\n",
    "print(\"The largest number is\", largest_num(n))\n",
    "\n",
    "\n",
    "\n",
    "\n",
    "#find the largest element in the list by taking input from user \n",
    "\n",
    "n = int(input(\"Enter the number of elemrnts:\"))\n",
    "l = []\n",
    "for i in range(n):\n",
    "    element = int(input(\"enter the elements:\"))\n",
    "    l.append(element)\n",
    "print(\"The list is\" , l)\n",
    "after_sorting = l.sort()\n",
    "print(\"The sorted list is:\" , l)\n",
    "\n",
    "largest_element = l[-1]\n",
    "print(largest_element)\n",
    "\n",
    "#for finding the smallest element\n",
    "\n",
    "smallest_element = l[0]\n",
    "print(smallest_element)\n",
    "\n"
   ]
  },
  {
   "cell_type": "code",
   "execution_count": 19,
   "metadata": {},
   "outputs": [
    {
     "name": "stdout",
     "output_type": "stream",
     "text": [
      "The list is [48, 46, 45, 47, 32, 24]\n",
      "The sorted list is: [24, 32, 45, 46, 47, 48]\n",
      "47\n"
     ]
    }
   ],
   "source": [
    "#To find the second largest number in list\n",
    "n = int(input(\"Enter the number of elemrnts:\"))\n",
    "l = []\n",
    "for i in range(n):\n",
    "    element = int(input(\"enter the elements:\"))\n",
    "    l.append(element)\n",
    "print(\"The list is\" , l)\n",
    "after_sorting = l.sort()\n",
    "print(\"The sorted list is:\" , l)\n",
    "\n",
    "second_largest_element = l[-2]\n",
    "print(second_largest_element)21\n"
   ]
  },
  {
   "cell_type": "code",
   "execution_count": 25,
   "metadata": {},
   "outputs": [
    {
     "name": "stdout",
     "output_type": "stream",
     "text": [
      "Frequency of each element is {1: 5, 2: 2, 3: 5}\n",
      "The list is [1, 2, 5, 1, 2, 5, 4, 1, 2]\n",
      "Frequency of each element is {1: 3, 2: 3, 5: 2, 4: 1}\n"
     ]
    }
   ],
   "source": [
    "#Count the frequency of  each element in the list without taking input from user\n",
    "\n",
    "def count(n):\n",
    "    frequency = {}\n",
    "    for element in n:\n",
    "        if element in frequency:\n",
    "            frequency[element] = frequency[element] + 1\n",
    "        else:\n",
    "            frequency[element] = 1\n",
    "    return frequency\n",
    "n = [1,2,3,2,3,1,1,3,3,1,3,1]\n",
    "frequency = count(n)\n",
    "print(\"Frequency of each element is\", frequency)\n",
    "\n",
    "\n",
    "\n",
    "\n",
    "#Count the frequency of  each element in the list taking input from user\n",
    "n = int(input(\"Enter the number of elements:\"))\n",
    "l = []\n",
    "for i in range(n):\n",
    "    element = int(input(\"enter the elements:\"))\n",
    "    l.append(element)\n",
    "print(\"The list is\" , l)\n",
    "def count(list):\n",
    "    frequency = {}\n",
    "    for element in list:\n",
    "        if element in frequency:\n",
    "            frequency[element] = frequency[element] + 1\n",
    "        else:\n",
    "            frequency[element] = 1\n",
    "    return frequency\n",
    "frequency = count(l)\n",
    "print(\"Frequency of each element is\", frequency)\n",
    "\n",
    "\n"
   ]
  },
  {
   "cell_type": "code",
   "execution_count": 27,
   "metadata": {},
   "outputs": [
    {
     "name": "stdout",
     "output_type": "stream",
     "text": [
      "The temperature in fahrenheit is 77.0\n"
     ]
    }
   ],
   "source": [
    "#To convert Celsius to Fahrenheit\n",
    "\n",
    "def c_to_f(celsius):\n",
    "    fahrenheit = ( celsius *(9/5) + 32)\n",
    "    return fahrenheit \n",
    "\n",
    "celsius = float(input(\"Enter Temperature in Celcius:\"))\n",
    "fahrenheit =  c_to_f(celsius)\n",
    "print(\"The temperature in fahrenheit is\" , fahrenheit)"
   ]
  },
  {
   "cell_type": "code",
   "execution_count": 34,
   "metadata": {},
   "outputs": [
    {
     "name": "stdout",
     "output_type": "stream",
     "text": [
      "common elements: {40, 20, 60}\n"
     ]
    }
   ],
   "source": [
    "# find the common elements in the list\n",
    "def common_element(list_1 , list_2):\n",
    "    set1 = set(list_1)\n",
    "    set2 = set(list_2)\n",
    "    common_element = set1.intersection(set2)\n",
    "    return (common_element)\n",
    "list_1 = [10,20,40,60]\n",
    "list_2 = [20,40,60,70]\n",
    "common_element = common_element(list_1 , list_2)\n",
    "print(\"common elements:\" , common_element)\n"
   ]
  },
  {
   "cell_type": "code",
   "execution_count": 38,
   "metadata": {},
   "outputs": [
    {
     "name": "stdout",
     "output_type": "stream",
     "text": [
      "[1, 4, 2, 3, 5]\n"
     ]
    }
   ],
   "source": [
    "#remove duplicates from the list\n",
    "list = [1,1,4,2,4,3,5,2,1,3,2,2,5]\n",
    "\n",
    "def remove_dup(ls):\n",
    "    no_duplicate = []\n",
    "    for element in ls:\n",
    "        if element not in no_duplicate:\n",
    "            no_duplicate.append(element)\n",
    "    return no_duplicate\n",
    "print(remove_dup(list))"
   ]
  },
  {
   "cell_type": "code",
   "execution_count": 40,
   "metadata": {},
   "outputs": [
    {
     "name": "stdout",
     "output_type": "stream",
     "text": [
      "Length of the longest word: 11\n"
     ]
    }
   ],
   "source": [
    "#Find the length of the longest word in a given sentence.\n",
    "def longest_word_len(sentence):\n",
    "    words = sentence.split()\n",
    "    max_length = 0\n",
    "    for word in words:\n",
    "        word_length = len(word)\n",
    "        if word_length > max_length:\n",
    "            max_length = word_length\n",
    "    \n",
    "    return max_length\n",
    "sentence = \"The magnificent elephant gracefully traversed the verdant landscape, casting a majestic silhouette against the setting sun.\"\n",
    "length = longest_word_len(sentence)\n",
    "print(\"Length of the longest word:\", length)\n"
   ]
  },
  {
   "cell_type": "code",
   "execution_count": 43,
   "metadata": {},
   "outputs": [
    {
     "name": "stdout",
     "output_type": "stream",
     "text": [
      "Result: The_adventurous_explorer_discovered_a_hidden_treasure_deep_within_the_mysterious_jungle\n"
     ]
    }
   ],
   "source": [
    "#replacing the string space with given character\n",
    "def replace_sp(input_string, replace_char):\n",
    "    result = \"\"\n",
    "    for char in input_string:\n",
    "        if char == ' ':\n",
    "            result += replace_char\n",
    "        else:\n",
    "            result += char\n",
    "    return result\n",
    "input_string = \"The adventurous explorer discovered a hidden treasure deep within the mysterious jungle\"\n",
    "replace_char = '_'\n",
    "result = replace_sp(input_string, replace_char)\n",
    "print(\"Result:\", result)"
   ]
  }
 ],
 "metadata": {
  "kernelspec": {
   "display_name": "Python 3",
   "language": "python",
   "name": "python3"
  },
  "language_info": {
   "codemirror_mode": {
    "name": "ipython",
    "version": 3
   },
   "file_extension": ".py",
   "mimetype": "text/x-python",
   "name": "python",
   "nbconvert_exporter": "python",
   "pygments_lexer": "ipython3",
   "version": "3.11.6"
  }
 },
 "nbformat": 4,
 "nbformat_minor": 2
}
